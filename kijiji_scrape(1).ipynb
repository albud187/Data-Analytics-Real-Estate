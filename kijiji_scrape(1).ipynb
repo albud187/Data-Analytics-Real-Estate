{
 "cells": [
  {
   "cell_type": "code",
   "execution_count": 233,
   "metadata": {},
   "outputs": [
    {
     "name": "stdout",
     "output_type": "stream",
     "text": [
      "https://www.kijiji.ca/b-for-sale/ottawa/mls/page-1/k0c30353001l1700185r20.0?price=75000__200000\n",
      "https://www.kijiji.ca/b-for-sale/ottawa/mls/page-2/k0c30353001l1700185r20.0?price=75000__200000\n",
      "https://www.kijiji.ca/b-for-sale/ottawa/mls/page-3/k0c30353001l1700185r20.0?price=75000__200000\n",
      "https://www.kijiji.ca/b-for-sale/ottawa/mls/page-4/k0c30353001l1700185r20.0?price=75000__200000\n"
     ]
    }
   ],
   "source": [
    "import requests\n",
    "from bs4 import BeautifulSoup\n",
    "import pandas\n",
    "from geopy.geocoders import Nominatim\n",
    "import random\n",
    "\n",
    "def address_fix1(address):\n",
    "\n",
    "    if 'UNIT' in address: \n",
    "        street=''\n",
    "        for i in range(len(address)):\n",
    "            street += address[i]\n",
    "            if address[i:i+4] == 'UNIT':\n",
    "                break \n",
    "    \n",
    "        return(street[0:i-1])\n",
    "    else:\n",
    "        return(address.replace(\"#\",' ').replace(\"|\",\" \"))\n",
    "    \n",
    "def province(address):\n",
    "    if 'ONTARIO' in address:\n",
    "        return('ONTARIO')\n",
    "    elif 'QUEBEC' in address:\n",
    "        return('QUEBEC')\n",
    "\n",
    "def address_fix2(address):\n",
    "    if 'UNIT' in address:\n",
    "        return(address_fix1(address)+', ' +province(address))\n",
    "    else:\n",
    "        return(address_fix1(address))\n",
    "\n",
    "def rand_user_agent():\n",
    "    agents = ['Del Lor', 'Kary Ayars', 'Harriette Schluter', 'Cassondra Carley', 'Hyman Bulkley', 'Noe Lorence', 'Janie Jernigan', 'Margaretta Janson', 'Petrina Utter', 'Barney Beckwith', 'Casandra Weyandt', 'Arleen Sneed', 'Joye Pfeifer', 'Charles Keplin', 'Isabelle Perla', 'Tarah Bradstreet', 'Kerstin Stocks', 'Tarra Wiren', 'Nena Pergande', 'Merry Dionisio', 'Bernetta Hallberg', 'Amina Babb', 'Ernesto Foster', 'Jolene Melgarejo', 'Peggie Lanham', 'Vallie Balsamo', 'Barbera Berlanga', 'Siobhan Hasbrouck', 'Eleonore Wisener', 'Ellen Scoggins', 'Deja Deloney', 'Cristina Poulin', 'Delicia Creasman', 'Tamiko Dam', 'Ryan Poffenberger', 'Tonia Simmerman', 'Jannie Ver', 'Genie Goodsell', 'Rachal Riddell', 'Gilda Pemberton', 'Analisa Temples', 'Melisa Windham', 'Roseanne Fallis', 'Olive Vanalstyne', 'Nia Hipsher', 'Michaela Chuang', 'Antonina Trees', 'Librada Vogus', 'Shantay Burts', 'Vern Cann']\n",
    "    return agents[random.randint(0,len(agents))]\n",
    "\n",
    "def address_lat(address):\n",
    "    geolocator = Nominatim(user_agent = rand_user_agent())\n",
    "    location = geolocator.geocode(address)\n",
    "    return(location.latitude)\n",
    "\n",
    "def address_long(address):\n",
    "    geolocator = Nominatim(user_agent = rand_user_agent())\n",
    "    location = geolocator.geocode(address)\n",
    "    return(location.longitude)\n",
    "\n",
    "base_url1 = \"https://www.kijiji.ca/b-for-sale/ottawa/mls/page-\"\n",
    "base_url2 = \"/k0c30353001l1700185r20.0?price=75000__200000\"\n",
    "last_page = 5\n",
    "\n",
    "list =[]\n",
    "for pg in range(1,last_page):\n",
    "    url = base_url1 + str(pg)+base_url2\n",
    "    print(url)\n",
    "    r = requests.get(url, headers={'User-agent': 'Mozilla/5.0 (X11; Ubuntu; Linux x86_64; rv:61.0) Gecko/2010001 Firefox/61.0'})\n",
    "    c = r.content\n",
    "    soup = BeautifulSoup(c,\"html.parser\")\n",
    "    all = soup.find_all(\"div\", {\"class\":\"info-container\"})\n",
    "\n",
    " \n",
    "    for item in all:\n",
    "        d={}\n",
    "        d[\"Raw Address\"] = item.find(\"div\",{\"class\":\"title\"}).text.replace(\"\\n\",\"\").replace(\"   \",\"\").upper()\n",
    "        d[\"Address\"] = address_fix2(item.find(\"div\",{\"class\":\"title\"}).text.replace(\"\\n\",\"\").replace(\"   \",\"\").upper())\n",
    "        try:\n",
    "            d[\"Latitude\"] = address_lat(address_fix2(item.find(\"div\",{\"class\":\"title\"}).text.replace(\"\\n\",\"\").replace(\"   \",\"\").upper()))\n",
    "        except:\n",
    "            d[\"Latitude\"] =1.1111\n",
    "        try:\n",
    "            d[\"Longitude\"] = address_long(address_fix2(item.find(\"div\",{\"class\":\"title\"}).text.replace(\"\\n\",\"\").replace(\"   \",\"\").upper()))\n",
    "        except:\n",
    "            d[\"Longitude\"] = 1.1111\n",
    "        d[\"Price\"] = item.find(\"div\",{\"class\":\"price\"}).text.replace(\"\\n\",\"\").replace(\" \",\"\")\n",
    "        d[\"MLS #\"] = item.find(\"div\",{\"class\":\"description\"}).text.replace(\"\\n\",\"\").replace(\"    \",\"\")[5:14]\n",
    "        list.append(d)\n",
    "\n",
    "\n",
    "    df = pandas.DataFrame(list)\n"
   ]
  },
  {
   "cell_type": "code",
   "execution_count": 236,
   "metadata": {},
   "outputs": [],
   "source": [
    "df.to_csv(r'E:\\python\\_projects\\kijiji real estate webscraper\\output3.csv')\n",
    "    \n"
   ]
  },
  {
   "cell_type": "code",
   "execution_count": null,
   "metadata": {},
   "outputs": [],
   "source": [
    "import folium\n",
    "\n",
    "data = pandas.read_csv(r'E:\\python\\_projects\\kijiji real estate webscraper\\output3.csv')\n",
    "lat = list(data[\"Latitude\"])\n",
    "long = list(data[\"Longitude\"])\n",
    "price = list(data[\"Price\"])\n",
    "address = list(data[\"Raw Address\"])\n",
    "MLS = list(data[\"MLS #\"])\n",
    "\n",
    "map = folium.Map(location = [38.58, -99.09], zoom_start=6, titles = \"Mapbox Bright\")\n",
    "\n",
    "fg = folium.FeatureGroup(name = \"My Map\")\n",
    "\n",
    "\n",
    "try: \n",
    "    for lt, ln, pr, ad, ML in zip(lat, long, price, address, MLS):\n",
    "        fg.add_child(folium.CircleMarker(location=[lt, ln], popup=str(pr)+', '+str(ad)+', '+str(ML),\n",
    "                fill_color = 'green', color = 'grey', fill_opacity = 0.7)) \n",
    "except:\n",
    "    pass\n",
    "\n",
    "#fg.add_child(folium.GeoJson(data=open(r\"E:\\python\\Udemy - Build 10 Real World Applications\\Application 2 - Webmaps with Python and Folium\\world.json\",'r',encoding='utf-8-sig').read()),\n",
    "             #style_function = lambda x:{'fillColor':'yellow'})\n",
    "\n",
    "\n",
    "map.add_child(fg)\n",
    "#map.save(r'E:\\python\\Udemy - Build 10 Real World Applications\\Application 2 - Webmaps with Python and Folium\\Map4.html')\n",
    "map.save(r'E:\\python\\_projects\\kijiji real estate webscraper\\realmap.html')\n"
   ]
  },
  {
   "cell_type": "code",
   "execution_count": null,
   "metadata": {},
   "outputs": [],
   "source": []
  },
  {
   "cell_type": "code",
   "execution_count": null,
   "metadata": {},
   "outputs": [],
   "source": []
  },
  {
   "cell_type": "code",
   "execution_count": null,
   "metadata": {},
   "outputs": [],
   "source": []
  },
  {
   "cell_type": "code",
   "execution_count": null,
   "metadata": {},
   "outputs": [],
   "source": []
  }
 ],
 "metadata": {
  "kernelspec": {
   "display_name": "Python 3",
   "language": "python",
   "name": "python3"
  },
  "language_info": {
   "codemirror_mode": {
    "name": "ipython",
    "version": 3
   },
   "file_extension": ".py",
   "mimetype": "text/x-python",
   "name": "python",
   "nbconvert_exporter": "python",
   "pygments_lexer": "ipython3",
   "version": "3.7.3"
  }
 },
 "nbformat": 4,
 "nbformat_minor": 4
}
