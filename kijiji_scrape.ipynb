{
 "cells": [
  {
   "cell_type": "code",
   "execution_count": 85,
   "metadata": {},
   "outputs": [
    {
     "data": {
      "text/plain": [
       "20"
      ]
     },
     "execution_count": 85,
     "metadata": {},
     "output_type": "execute_result"
    }
   ],
   "source": [
    "import requests\n",
    "from bs4 import BeautifulSoup\n",
    "\n",
    "url = r'https://www.kijiji.ca/b-for-sale/ottawa/ottawa/k0c30353001l1700185?price=75000__200000&ad=offering'\n",
    "\n",
    "r = requests.get(url, headers={'User-agent': 'Mozilla/5.0 (X11; Ubuntu; Linux x86_64; rv:61.0) Gecko/2010001 Firefox/61.0'})\n",
    "c = r.content\n",
    "\n",
    "soup = BeautifulSoup(c, \"html.parser\")\n",
    "all = soup.find_all(\"div\", {\"class\":\"info-container\"})\n",
    "len(all)\n",
    "#all[0].text.replace(\"\\n\",\"\")\n",
    "#all[1]"
   ]
  },
  {
   "cell_type": "code",
   "execution_count": null,
   "metadata": {},
   "outputs": [],
   "source": [
    "for item in all:\n",
    "    print(item.find(\"h4\",{\"class\",\"propPrice\"}).text.replace(\"\\n\",\"\").replace(\" \",\"\"))\n",
    "    print(item.find_all(\"span\",{\"class\",\"propAddressCollapse\"})[0].text)\n",
    "    print(item.find_all(\"span\",{\"class\",\"propAddressCollapse\"})[1].text)\n",
    "    try:\n",
    "        print(item.find(\"span\",{\"class\",\"infoBed\"}).find(\"b\").text)\n",
    "    except:\n",
    "        print('NA')\n",
    "    try:\n",
    "        print(item.find(\"span\",{\"class\",\"infoSqFt\"}).find(\"b\").text)\n",
    "    except:\n",
    "        print('NA')\n",
    "    try:\n",
    "        print(item.find(\"span\",{\"class\",\"infoValueFullBath\"}).find(\"b\").text)\n",
    "    except:\n",
    "        print('NA')\n",
    "    try:\n",
    "        print(item.find(\"span\",{\"class\",\"infoValueHalf\"}).find(\"b\").text)\n",
    "    except:\n",
    "        print('NA')\n",
    "    \n",
    "    print(\" \")"
   ]
  }
 ],
 "metadata": {
  "kernelspec": {
   "display_name": "Python 3",
   "language": "python",
   "name": "python3"
  },
  "language_info": {
   "codemirror_mode": {
    "name": "ipython",
    "version": 3
   },
   "file_extension": ".py",
   "mimetype": "text/x-python",
   "name": "python",
   "nbconvert_exporter": "python",
   "pygments_lexer": "ipython3",
   "version": "3.7.3"
  }
 },
 "nbformat": 4,
 "nbformat_minor": 4
}
