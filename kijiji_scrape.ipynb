{
 "cells": [
  {
   "cell_type": "code",
   "execution_count": 4,
   "metadata": {},
   "outputs": [
    {
     "name": "stdout",
     "output_type": "stream",
     "text": [
      "https://www.kijiji.ca/b-for-sale/ottawa/mls/page-1/k0c30353001l1700185r25.0?price=75000__300000\n",
      "https://www.kijiji.ca/b-for-sale/ottawa/mls/page-2/k0c30353001l1700185r25.0?price=75000__300000\n",
      "https://www.kijiji.ca/b-for-sale/ottawa/mls/page-3/k0c30353001l1700185r25.0?price=75000__300000\n",
      "https://www.kijiji.ca/b-for-sale/ottawa/mls/page-4/k0c30353001l1700185r25.0?price=75000__300000\n"
     ]
    }
   ],
   "source": [
    "import requests\n",
    "from bs4 import BeautifulSoup\n",
    "import pandas as pd\n",
    "from geopy.geocoders import Nominatim\n",
    "import random\n",
    "\n",
    "def address_fix1(address):\n",
    "\n",
    "    if 'UNIT' in address: \n",
    "        street=''\n",
    "        for i in range(len(address)):\n",
    "            street += address[i]\n",
    "            if address[i:i+4] == 'UNIT':\n",
    "                break \n",
    "    \n",
    "        return(street[0:i-1])\n",
    "    else:\n",
    "        return(address.replace(\"#\",' ').replace(\"|\",\" \"))\n",
    "    \n",
    "def province(address):\n",
    "    if 'ONTARIO' in address:\n",
    "        return('ONTARIO')\n",
    "    elif 'QUEBEC' in address:\n",
    "        return('QUEBEC')\n",
    "\n",
    "def address_fix2(address):\n",
    "    if 'UNIT' in address:\n",
    "        return(address_fix1(address)+', ' +province(address))\n",
    "    else:\n",
    "        return(address_fix1(address))\n",
    "\n",
    "def rand_user_agent():\n",
    "    agents = ['Del Lor', 'Kary Ayars', 'Harriette Schluter', 'Cassondra Carley', 'Hyman Bulkley', 'Noe Lorence', 'Janie Jernigan', 'Margaretta Janson', 'Petrina Utter', 'Barney Beckwith', 'Casandra Weyandt', 'Arleen Sneed', 'Joye Pfeifer', 'Charles Keplin', 'Isabelle Perla', 'Tarah Bradstreet', 'Kerstin Stocks', 'Tarra Wiren', 'Nena Pergande', 'Merry Dionisio', 'Bernetta Hallberg', 'Amina Babb', 'Ernesto Foster', 'Jolene Melgarejo', 'Peggie Lanham', 'Vallie Balsamo', 'Barbera Berlanga', 'Siobhan Hasbrouck', 'Eleonore Wisener', 'Ellen Scoggins', 'Deja Deloney', 'Cristina Poulin', 'Delicia Creasman', 'Tamiko Dam', 'Ryan Poffenberger', 'Tonia Simmerman', 'Jannie Ver', 'Genie Goodsell', 'Rachal Riddell', 'Gilda Pemberton', 'Analisa Temples', 'Melisa Windham', 'Roseanne Fallis', 'Olive Vanalstyne', 'Nia Hipsher', 'Michaela Chuang', 'Antonina Trees', 'Librada Vogus', 'Shantay Burts', 'Vern Cann']\n",
    "    return agents[random.randint(0,len(agents))]\n",
    "\n",
    "def address_lat(address):\n",
    "    geolocator = Nominatim(user_agent = rand_user_agent())\n",
    "    location = geolocator.geocode(address)\n",
    "    return(location.latitude)\n",
    "\n",
    "def address_long(address):\n",
    "    geolocator = Nominatim(user_agent = rand_user_agent())\n",
    "    location = geolocator.geocode(address)\n",
    "    return(location.longitude)\n",
    "\n",
    "lower_price = 75000\n",
    "upper_price = 300000\n",
    "search_radius = 25.0\n",
    "last_page = 5\n",
    "\n",
    "base_url1 = \"https://www.kijiji.ca/b-for-sale/ottawa/mls/page-\"\n",
    "#base_url2 = \"/k0c30353001l1700185r20.0?price=75000__200000\"\n",
    "base_url2 = \"/k0c30353001l1700185r\" + str(search_radius) + \"?price=\" +str(lower_price) + \"__\" +str(upper_price)\n",
    "\n",
    "list =[]\n",
    "for pg in range(1,last_page):\n",
    "    url = base_url1 + str(pg)+base_url2\n",
    "    print(url)\n",
    "    r = requests.get(url, headers={'User-agent': 'Mozilla/5.0 (X11; Ubuntu; Linux x86_64; rv:61.0) Gecko/2010001 Firefox/61.0'})\n",
    "    c = r.content\n",
    "    soup = BeautifulSoup(c,\"html.parser\")\n",
    "    all = soup.find_all(\"div\", {\"class\":\"info-container\"})\n",
    "\n",
    " \n",
    "    for item in all:\n",
    "        d={}\n",
    "        d[\"Webscraped Address\"] = item.find(\"div\",{\"class\":\"title\"}).text.replace(\"\\n\",\"\").replace(\"   \",\"\").upper()\n",
    "        d[\"Processed Address\"] = address_fix2(item.find(\"div\",{\"class\":\"title\"}).text.replace(\"\\n\",\"\").replace(\"   \",\"\").upper())\n",
    "        try:\n",
    "            d[\"Latitude\"] = address_lat(address_fix2(item.find(\"div\",{\"class\":\"title\"}).text.replace(\"\\n\",\"\").replace(\"   \",\"\").upper()))\n",
    "        except:\n",
    "            d[\"Latitude\"] =1.1111\n",
    "        try:\n",
    "            d[\"Longitude\"] = address_long(address_fix2(item.find(\"div\",{\"class\":\"title\"}).text.replace(\"\\n\",\"\").replace(\"   \",\"\").upper()))\n",
    "        except:\n",
    "            d[\"Longitude\"] = 1.1111\n",
    "        d[\"Price\"] = item.find(\"div\",{\"class\":\"price\"}).text.replace(\"\\n\",\"\").replace(\" \",\"\")\n",
    "        d[\"MLS #\"] = item.find(\"div\",{\"class\":\"description\"}).text.replace(\"\\n\",\"\").replace(\"    \",\"\")[5:14]\n",
    "        list.append(d)\n",
    "\n",
    "\n",
    "    df = pd.DataFrame(list)\n"
   ]
  },
  {
   "cell_type": "code",
   "execution_count": 17,
   "metadata": {},
   "outputs": [],
   "source": [
    "import pandas as pd"
   ]
  },
  {
   "cell_type": "code",
   "execution_count": 11,
   "metadata": {},
   "outputs": [
    {
     "data": {
      "text/plain": [
       "162"
      ]
     },
     "execution_count": 11,
     "metadata": {},
     "output_type": "execute_result"
    }
   ],
   "source": [
    "len(df)"
   ]
  },
  {
   "cell_type": "code",
   "execution_count": 10,
   "metadata": {},
   "outputs": [
    {
     "data": {
      "text/plain": [
       "126    ://www.ro\n",
       "Name: MLS #, dtype: object"
      ]
     },
     "execution_count": 10,
     "metadata": {},
     "output_type": "execute_result"
    }
   ],
   "source": [
    "df['MLS #'][-1:]"
   ]
  },
  {
   "cell_type": "code",
   "execution_count": 19,
   "metadata": {},
   "outputs": [
    {
     "name": "stderr",
     "output_type": "stream",
     "text": [
      "c:\\users\\olfoa\\appdata\\local\\programs\\python\\python36\\lib\\site-packages\\ipykernel_launcher.py:6: SettingWithCopyWarning: \n",
      "A value is trying to be set on a copy of a slice from a DataFrame\n",
      "\n",
      "See the caveats in the documentation: http://pandas.pydata.org/pandas-docs/stable/user_guide/indexing.html#returning-a-view-versus-a-copy\n",
      "  \n",
      "c:\\users\\olfoa\\appdata\\local\\programs\\python\\python36\\lib\\site-packages\\ipykernel_launcher.py:7: SettingWithCopyWarning: \n",
      "A value is trying to be set on a copy of a slice from a DataFrame\n",
      "\n",
      "See the caveats in the documentation: http://pandas.pydata.org/pandas-docs/stable/user_guide/indexing.html#returning-a-view-versus-a-copy\n",
      "  import sys\n"
     ]
    }
   ],
   "source": [
    "# create df for points of interest\n",
    "POI = pd.read_csv('POI.csv', encoding = 'ISO-8859-1', index_col = 0)\n",
    "for i in range(len(POI)):\n",
    "    try:\n",
    "        \n",
    "        POI['Latitude'][i] = float(address_lat(POI['Search Address'][i]))\n",
    "        POI['Longitude'][i] = float(address_long(POI['Search Address'][i]))\n",
    "    except:\n",
    "        pass"
   ]
  },
  {
   "cell_type": "code",
   "execution_count": 21,
   "metadata": {},
   "outputs": [],
   "source": [
    "POI.to_csv('POI coords.csv')"
   ]
  },
  {
   "cell_type": "code",
   "execution_count": 5,
   "metadata": {},
   "outputs": [],
   "source": [
    "\n",
    "import folium\n",
    "import pandas as pd\n",
    "\n",
    "#properties feature group\n",
    "data = pd.read_csv('output4.csv')\n",
    "lat = list(data[\"Latitude\"])\n",
    "long = list(data[\"Longitude\"])\n",
    "price = list(data[\"Price\"])\n",
    "address = list(data[\"Raw Address\"])\n",
    "MLS = list(data[\"MLS #\"])\n",
    "\n",
    "map = folium.Map(location = [38.58, -99.09], zoom_start=6, titles = \"Mapbox Bright\")\n",
    "\n",
    "fg = folium.FeatureGroup(name = \"My Map\")\n",
    "\n",
    "\n",
    "try: \n",
    "    for lt, ln, pr, ad, ML in zip(lat, long, price, address, MLS):\n",
    "        fg.add_child(folium.CircleMarker(location=[lt, ln], popup=str(pr)+', '+str(ad)+', '+str(ML),\n",
    "                fill_color = 'green', color = 'grey', fill_opacity = 0.7)) \n",
    "except:\n",
    "    pass\n",
    "map.add_child(fg)\n",
    "\n",
    "#POI feature group\n",
    "POI = pd.read_csv('POI coords.csv', index_col = 0)\n",
    "POI_lat = list(POI[\"Latitude\"])\n",
    "POI_long = list(POI[\"Longitude\"])\n",
    "POI_address = list(POI[\"Search Address\"])\n",
    "POI_Desc = list(POI[\"Description\"])\n",
    "\n",
    "fg2 = folium.FeatureGroup(name = \"POIs\")\n",
    "\n",
    "try: \n",
    "    for lt, ln, ad, desc in zip(POI_lat, POI_long, POI_address, POI_Desc):\n",
    "        fg2.add_child(folium.CircleMarker(location=[lt, ln], popup=str(ad)+', '+str(desc),\n",
    "                fill_color = 'yellow', color = 'grey', fill_opacity = 0.7)) \n",
    "except:\n",
    "    pass\n",
    "map.add_child(fg2)\n",
    "\n",
    "\n",
    "\n",
    "\n",
    "map.save('realmap5.html')\n"
   ]
  }
 ],
 "metadata": {
  "kernelspec": {
   "display_name": "Python 3",
   "language": "python",
   "name": "python3"
  },
  "language_info": {
   "codemirror_mode": {
    "name": "ipython",
    "version": 3
   },
   "file_extension": ".py",
   "mimetype": "text/x-python",
   "name": "python",
   "nbconvert_exporter": "python",
   "pygments_lexer": "ipython3",
   "version": "3.6.8"
  }
 },
 "nbformat": 4,
 "nbformat_minor": 4
}
