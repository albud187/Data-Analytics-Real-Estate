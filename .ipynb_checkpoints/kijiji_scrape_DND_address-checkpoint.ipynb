{
 "cells": [
  {
   "cell_type": "code",
   "execution_count": 20,
   "metadata": {},
   "outputs": [],
   "source": [
    "import requests\n",
    "from bs4 import BeautifulSoup\n",
    "import pandas\n",
    "from geopy.geocoders import Nominatim\n",
    "import random\n",
    "\n",
    "def address_fix1(address):\n",
    "\n",
    "    if 'UNIT' in address: \n",
    "        street=''\n",
    "        for i in range(len(address)):\n",
    "            street += address[i]\n",
    "            if address[i:i+4] == 'UNIT':\n",
    "                break \n",
    "    \n",
    "        return(street[0:i-1])\n",
    "    else:\n",
    "        return(address.replace(\"#\",' ').replace(\"|\",\" \"))\n",
    "    \n",
    "def province(address):\n",
    "    if 'ONTARIO' in address:\n",
    "        return('ONTARIO')\n",
    "    elif 'QUEBEC' in address:\n",
    "        return('QUEBEC')\n",
    "\n",
    "def address_fix2(address):\n",
    "    if 'UNIT' in address:\n",
    "        return(address_fix1(address)+', ' +province(address))\n",
    "    else:\n",
    "        return(address_fix1(address))\n",
    "\n",
    "def rand_user_agent():\n",
    "    agents = ['Del Lor', 'Kary Ayars', 'Harriette Schluter', 'Cassondra Carley', 'Hyman Bulkley', 'Noe Lorence', 'Janie Jernigan', 'Margaretta Janson', 'Petrina Utter', 'Barney Beckwith', 'Casandra Weyandt', 'Arleen Sneed', 'Joye Pfeifer', 'Charles Keplin', 'Isabelle Perla', 'Tarah Bradstreet', 'Kerstin Stocks', 'Tarra Wiren', 'Nena Pergande', 'Merry Dionisio', 'Bernetta Hallberg', 'Amina Babb', 'Ernesto Foster', 'Jolene Melgarejo', 'Peggie Lanham', 'Vallie Balsamo', 'Barbera Berlanga', 'Siobhan Hasbrouck', 'Eleonore Wisener', 'Ellen Scoggins', 'Deja Deloney', 'Cristina Poulin', 'Delicia Creasman', 'Tamiko Dam', 'Ryan Poffenberger', 'Tonia Simmerman', 'Jannie Ver', 'Genie Goodsell', 'Rachal Riddell', 'Gilda Pemberton', 'Analisa Temples', 'Melisa Windham', 'Roseanne Fallis', 'Olive Vanalstyne', 'Nia Hipsher', 'Michaela Chuang', 'Antonina Trees', 'Librada Vogus', 'Shantay Burts', 'Vern Cann']\n",
    "    return agents[random.randint(0,len(agents))]\n",
    "\n",
    "def address_lat(address):\n",
    "    geolocator = Nominatim(user_agent = rand_user_agent())\n",
    "    location = geolocator.geocode(address)\n",
    "    return(location.latitude)\n",
    "\n",
    "def address_long(address):\n",
    "    geolocator = Nominatim(user_agent = rand_user_agent())\n",
    "    location = geolocator.geocode(address)\n",
    "    return(location.longitude)\n",
    "#url = \"https://www.realtor.ca/map#ZoomLevel=10&Center=45.250322%2C-75.799950&LatitudeMax=45.61892&LongitudeMax=-74.71230&LatitudeMin=44.87931&LongitudeMin=-76.88760&Sort=1-A&PGeoIds=g30_f241etq5&GeoName=Ottawa%2C%20ON&PropertyTypeGroupID=1&PropertySearchTypeId=1&TransactionTypeId=2&Currency=CAD\"\n",
    "url = 'https://ottawarelocations.ca/military-relocations/ottawa-dnd-locations/#:~:text=The%20DND%20headquarters%20is%20located%20in%20Ottawa%E2%80%99s%20west,retrofitting%20the%20former%20Nortel%20complex%20for%20DND%E2%80%99s%20needs.'\n",
    "\n",
    "\n",
    "list =[]\n",
    "\n",
    "\n",
    "r = requests.get(url, headers={'User-agent': 'Mozilla/5.0 (X11; Ubuntu; Linux x86_64; rv:61.0) Gecko/2010001 Firefox/61.0'})\n",
    "c = r.content\n",
    "soup = BeautifulSoup(c,\"html.parser\")\n",
    "\n",
    "\n"
   ]
  },
  {
   "cell_type": "code",
   "execution_count": 50,
   "metadata": {},
   "outputs": [
    {
     "data": {
      "text/plain": [
       "(42.42928694283831, -73.55848123352004)"
      ]
     },
     "execution_count": 50,
     "metadata": {},
     "output_type": "execute_result"
    }
   ],
   "source": [
    "address = '224 Hunt Club Road'\n",
    "coords = (address_lat(address), address_long(address))\n",
    "coords"
   ]
  },
  {
   "cell_type": "code",
   "execution_count": 47,
   "metadata": {},
   "outputs": [
    {
     "data": {
      "text/plain": [
       "45.353028949999995"
      ]
     },
     "execution_count": 47,
     "metadata": {},
     "output_type": "execute_result"
    }
   ],
   "source": []
  },
  {
   "cell_type": "code",
   "execution_count": null,
   "metadata": {},
   "outputs": [],
   "source": [
    "\n",
    "\n",
    "for item in all:\n",
    "    d={}\n",
    "    d[\"Raw Address\"] = item.find(\"div\",{\"class\":\"title\"}).text.replace(\"\\n\",\"\").replace(\"   \",\"\").upper()\n",
    "    d[\"Address\"] = address_fix2(item.find(\"div\",{\"class\":\"title\"}).text.replace(\"\\n\",\"\").replace(\"   \",\"\").upper())\n",
    "    try:\n",
    "        d[\"Latitude\"] = address_lat(address_fix2(item.find(\"div\",{\"class\":\"title\"}).text.replace(\"\\n\",\"\").replace(\"   \",\"\").upper()))\n",
    "    except:\n",
    "        d[\"Latitude\"] =1.1111\n",
    "    try:\n",
    "        d[\"Longitude\"] = address_long(address_fix2(item.find(\"div\",{\"class\":\"title\"}).text.replace(\"\\n\",\"\").replace(\"   \",\"\").upper()))\n",
    "    except:\n",
    "        d[\"Longitude\"] = 1.1111\n",
    "    d[\"Price\"] = item.find(\"div\",{\"class\":\"price\"}).text.replace(\"\\n\",\"\").replace(\" \",\"\")\n",
    "    d[\"MLS #\"] = item.find(\"div\",{\"class\":\"description\"}).text.replace(\"\\n\",\"\").replace(\"    \",\"\")[5:14]\n",
    "    list.append(d)\n",
    "\n",
    "\n",
    "df = pandas.DataFrame(list)"
   ]
  }
 ],
 "metadata": {
  "kernelspec": {
   "display_name": "Python 3",
   "language": "python",
   "name": "python3"
  },
  "language_info": {
   "codemirror_mode": {
    "name": "ipython",
    "version": 3
   },
   "file_extension": ".py",
   "mimetype": "text/x-python",
   "name": "python",
   "nbconvert_exporter": "python",
   "pygments_lexer": "ipython3",
   "version": "3.6.8"
  }
 },
 "nbformat": 4,
 "nbformat_minor": 4
}
